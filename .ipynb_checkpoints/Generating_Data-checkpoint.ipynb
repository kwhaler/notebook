{
 "cells": [
  {
   "cell_type": "markdown",
   "metadata": {},
   "source": [
    "# Generate Data\n",
    "So you are asked to design analytics software but you don't have data. But there's a model, a picture of what the data will look like. Well, no problem. Let's generate some data according to the model. Boom. Data."
   ]
  },
  {
   "cell_type": "markdown",
   "metadata": {},
   "source": [
    "**Example output:**\n",
    "\n",
    "```\n",
    "start: 2016-09-27T00:00:00Z\n",
    "end: 2016-09-27T05:00:00Z\n",
    "dimension values: [Linux, iOS, Windows]\n",
    "---- aggregate results for Linux\n",
    "differential data valid: true\n",
    "differential: 4.156676449009538\n",
    "opportunity: -1953.6379310344828\n",
    "total qualified: 27260\n",
    "total missed: -470\n",
    "factor qualified: 12549\n",
    "factor missed: -2170\n",
    "---- time series results for Linux\n",
    "+ end time: 2016-09-27T01:00:00Z\n",
    "+ period: PT1H\n",
    "```"
   ]
  },
  {
   "cell_type": "code",
   "execution_count": 3,
   "metadata": {
    "collapsed": false
   },
   "outputs": [
    {
     "name": "stdout",
     "output_type": "stream",
     "text": [
      "Less Bounced Sessions\n",
      "\t\tsessions\tcompleted goal\tsuccess rate (%)\t\n",
      "all sessions\t10200 \t\t4980 \t\t\t0\n",
      "with factors\t1980 \t\t260 \t\t\t0\n",
      "if resolved\t1980 \t\t0 \t\t\t0\n",
      "–\n",
      "opportunity\t0 % impact \t+ 0 goals \t\t+ 0 % ROI\n",
      "\n",
      "\n",
      "More Carts Greater than $49\n",
      "\t\tsessions\tcompleted goal\tsuccess rate (%)\t\n",
      "all sessions\t9800 \t\t3980 \t\t\t0\n",
      "with factors\t1980 \t\t560 \t\t\t0\n",
      "if resolved\t1980 \t\t0 \t\t\t0\n",
      "–\n",
      "opportunity\t0 % impact \t+ 0 goals \t\t+ 0 % ROI\n",
      "\n",
      "\n",
      "Less Abandoned Carts\n",
      "\t\tsessions\tcompleted goal\tsuccess rate (%)\t\n",
      "all sessions\t8990 \t\t3710 \t\t\t0\n",
      "with factors\t1690 \t\t660 \t\t\t0\n",
      "if resolved\t1690 \t\t0 \t\t\t0\n",
      "–\n",
      "opportunity\t0 % impact \t+ 0 goals \t\t+ 0 % ROI\n",
      "\n",
      "\n",
      "More Account Sign-Ups\n",
      "\t\tsessions\tcompleted goal\tsuccess rate (%)\t\n",
      "all sessions\t6090 \t\t3450 \t\t\t0\n",
      "with factors\t2670 \t\t1478 \t\t\t0\n",
      "if resolved\t2670 \t\t0 \t\t\t0\n",
      "–\n",
      "opportunity\t0 % impact \t+ 0 goals \t\t+ 0 % ROI\n",
      "\n",
      "\n"
     ]
    }
   ],
   "source": [
    "def calculate_opportunity(op,tq,tm,fq,fm):\n",
    "    \n",
    "    total_qualified = tq\n",
    "    total_missed = tm\n",
    "    total_rate = total_missed / total_qualified\n",
    "\n",
    "    factor_qualified = fq\n",
    "    factor_missed = fm\n",
    "    factor_rate = factor_missed / factor_qualified\n",
    "    if_not_factor = total_rate * factor_qualified\n",
    "\n",
    "    opportunity = (factor_qualified * total_rate) - (factor_qualified * factor_rate)\n",
    "\n",
    "    print(op)   \n",
    "    print '\\t','\\t','sessions\\t','completed goal\\t','success rate (%)\\t'\n",
    "    print 'all sessions\\t', total_qualified,'\\t','\\t',total_missed,'\\t','\\t','\\t',int(total_rate*100)\n",
    "    print 'with factors\\t', factor_qualified,'\\t','\\t',factor_missed,'\\t','\\t','\\t',int(factor_rate*100)\n",
    "    print 'if resolved\\t', factor_qualified,'\\t','\\t',int(if_not_factor),'\\t','\\t','\\t',int(total_rate*100)\n",
    "    print '–'\n",
    "    print 'opportunity\\t',int((total_rate - factor_rate)*100),'% impact','\\t+',int(opportunity),'goals','\\t','\\t','+',int((opportunity / factor_missed)*100),'% ROI'\n",
    "    print '\\n'\n",
    "\n",
    "calculate_opportunity('Less Bounced Sessions',10200,4980,1980,260)\n",
    "calculate_opportunity('More Carts Greater than $49',9800,3980,1980,560)\n",
    "calculate_opportunity('Less Abandoned Carts',8990,3710,1690,660)\n",
    "calculate_opportunity('More Account Sign-Ups',6090,3450,2670,1478)"
   ]
  },
  {
   "cell_type": "markdown",
   "metadata": {},
   "source": [
    "It sure ain't pretty but man it works."
   ]
  },
  {
   "cell_type": "code",
   "execution_count": null,
   "metadata": {
    "collapsed": true
   },
   "outputs": [],
   "source": []
  }
 ],
 "metadata": {
  "anaconda-cloud": {},
  "kernelspec": {
   "display_name": "Python [default]",
   "language": "python",
   "name": "python2"
  },
  "language_info": {
   "codemirror_mode": {
    "name": "ipython",
    "version": 2
   },
   "file_extension": ".py",
   "mimetype": "text/x-python",
   "name": "python",
   "nbconvert_exporter": "python",
   "pygments_lexer": "ipython2",
   "version": "2.7.12"
  }
 },
 "nbformat": 4,
 "nbformat_minor": 1
}
