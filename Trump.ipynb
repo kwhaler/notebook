{
 "cells": [
  {
   "cell_type": "markdown",
   "metadata": {},
   "source": [
    "# How to Trump"
   ]
  },
  {
   "cell_type": "code",
   "execution_count": 38,
   "metadata": {
    "collapsed": false
   },
   "outputs": [
    {
     "name": "stdout",
     "output_type": "stream",
     "text": [
      "I know more about emails than emails.\n",
      "They're very bad ISIS.\n",
      "They're tremendous.\n",
      "And it's going to be tremendous.\n",
      "\n",
      "I know more about Secretary Clinton than Secretary Clinton.\n",
      "They're disaster China.\n",
      "They're disaster.\n",
      "And it's going to be very bad.\n",
      "\n",
      "I know more about ISIS than emails.\n",
      "They're very bad ISIS.\n",
      "They're very bad.\n",
      "And it's going to be tremendous.\n",
      "\n",
      "I know more about ISIS than Secretary Clinton.\n",
      "They're disaster China.\n",
      "They're tremendous.\n",
      "And it's going to be very bad.\n",
      "\n",
      "I know more about emails than emails.\n",
      "They're disaster emails.\n",
      "They're tremendous.\n",
      "And it's going to be tremendous.\n",
      "\n",
      "I know more about China than emails.\n",
      "They're very bad Secretary Clinton.\n",
      "They're very bad.\n",
      "And it's going to be tremendous.\n",
      "\n"
     ]
    }
   ],
   "source": [
    "import random\n",
    "\n",
    "words = [\n",
    "    \"ISIS\",\n",
    "    \"China\",\n",
    "    \"emails\",\n",
    "    \"Secretary Clinton\"\n",
    "]\n",
    "adj = [\n",
    "    \"very bad\",\n",
    "    \"tremendous\",\n",
    "    \"disaster\"\n",
    "]\n",
    "\n",
    "def repeat_them_emphatically(n):\n",
    "    \n",
    "    for i in  range(n): \n",
    "    \n",
    "        print(\"I know more about \" \n",
    "              + random.choice(words) \n",
    "              + \" than \"\n",
    "              + random.choice(words)  \n",
    "              + \".\")\n",
    "\n",
    "        print(\"They're \" \n",
    "              + random.choice(adj)\n",
    "              + \" \"\n",
    "              + random.choice(words) \n",
    "              + \".\")\n",
    "\n",
    "        print(\"They're \" \n",
    "              + random.choice(adj) \n",
    "              + \".\")\n",
    "\n",
    "        print(\"And it's going to be \" \n",
    "              + random.choice(adj) \n",
    "              + \".\"\n",
    "              + '\\n')\n",
    "    \n",
    "repeat_them_emphatically(6)"
   ]
  },
  {
   "cell_type": "code",
   "execution_count": null,
   "metadata": {
    "collapsed": true
   },
   "outputs": [],
   "source": []
  }
 ],
 "metadata": {
  "kernelspec": {
   "display_name": "Python 3",
   "language": "python",
   "name": "python3"
  },
  "language_info": {
   "codemirror_mode": {
    "name": "ipython",
    "version": 3
   },
   "file_extension": ".py",
   "mimetype": "text/x-python",
   "name": "python",
   "nbconvert_exporter": "python",
   "pygments_lexer": "ipython3",
   "version": "3.5.1"
  }
 },
 "nbformat": 4,
 "nbformat_minor": 0
}
