{
 "cells": [
  {
   "cell_type": "markdown",
   "metadata": {},
   "source": [
    "# Generate Proxy Data\n",
    "\n",
    "Desiging an analytics product is difficult if not impossible without data. If your dev team is still working on it, then you'll have to improvise! Below is what I generated for a recent project I was working on with Dell."
   ]
  },
  {
   "cell_type": "code",
   "execution_count": 20,
   "metadata": {
    "collapsed": false
   },
   "outputs": [
    {
     "name": "stdout",
     "output_type": "stream",
     "text": [
      "opportunity,goal,dimension_type,dimension\n",
      "441,account creations failed,device,AOSP on ARM Emulator\n",
      "21,customers bounced,resource,jquery-validation-1.15.1.min.js\n",
      "13,account creations failed,browser,IE 8\n",
      "11,cart values below $49,resource,jquery-validation-1.15.1.min.js\n",
      "2,customers bounced,browser,IE 8\n",
      "5,cart values below $49,device,Android SDK built for x86\n",
      "2,cart values below $49,browser,IE 8\n",
      "2,customers bounced,device,Mac OSX\n",
      "10,customers bounced,device,Android SDK built for x86\n",
      "580,customers bounced,resource,jquery-validation-1.15.1.min.js\n",
      "13,account creations failed,device,Mac OSX\n",
      "16,customers bounced,device,Mac OSX\n",
      "8,cart values below $49,device,AOSP on ARM Emulator\n",
      "2,carts abandoned,device,Windows\n",
      "3,account creations failed,browser,IE 8\n",
      "10,carts abandoned,device,Android SDK built for x86\n",
      "7,carts abandoned,device,Android SDK built for x86\n",
      "10,cart values below $49,browser,IE 8\n",
      "404,cart values below $49,browser,Chrome for Android\n",
      "17,account creations failed,browser,Internet Explorer 10\n",
      "11,customers bounced,device,Android SDK built for x86\n",
      "4,carts abandoned,device,Windows\n",
      "5,cart values below $49,resource,jquery-validation-1.15.1.min.js\n",
      "7,account creations failed,browser,Internet Explorer 10\n",
      "8,customers bounced,device,XT1045\n",
      "3,cart values below $49,browser,Chrome for Android\n",
      "5,cart values below $49,browser,Internet Explorer 10\n",
      "489,carts abandoned,device,Android SDK built for x86\n",
      "21,carts abandoned,browser,Chrome for Android\n",
      "22,account creations failed,browser,IE 8\n",
      "2,customers bounced,device,Windows\n",
      "11,carts abandoned,device,Mac OSX\n",
      "3,customers bounced,browser,IE 8\n",
      "4,account creations failed,location,Texas\n",
      "3,customers bounced,browser,Chrome for Android\n",
      "11,cart values below $49,browser,IE 8\n"
     ]
    }
   ],
   "source": [
    "import random\n",
    "\n",
    "valid_sessions = 100000\n",
    "failure_rate = range(20,50)\n",
    "\n",
    "\n",
    "sessions_high = range(299,599)\n",
    "sessions_med = range(11,23)\n",
    "sessions_low = range(2,12) \n",
    "cvr = range(1,4)\n",
    "\n",
    "goal = [\n",
    "    \"carts abandoned\", \n",
    "    \"customers bounced\", \n",
    "    \"cart values below $49\",\n",
    "    \"account creations failed\"\n",
    "]\n",
    "\n",
    "\n",
    "dimension = [\n",
    "    \"resource,jquery-validation-1.15.1.min.js\",\n",
    "    \"browser,Chrome for Android\",\n",
    "    \"device,Android SDK built for x86\",\n",
    "    \"device,XT1045\",\n",
    "    \"device,Mac OSX\",\n",
    "    \"device,Android SDK built for x86\",\n",
    "    \"device,Windows\",\n",
    "    \"browser,IE 8\",\n",
    "    \"browser,Internet Explorer 10\",\n",
    "    \"location,Texas\",\n",
    "    \"device,AOSP on ARM Emulator\"\n",
    "]\n",
    "\n",
    "def make_opportunities():\n",
    "    \n",
    "    print(\"opportunity,goal,dimension_type,dimension\")\n",
    "    \n",
    "    for i in range(4):\n",
    "        \n",
    "        for i in range(1):\n",
    "            print(  \n",
    "                str(random.choice(sessions_high))+\",\"+\n",
    "                random.choice(goal)+\",\"+ \n",
    "                random.choice(dimension)\n",
    "            )\n",
    "        for i in range(2):\n",
    "            print(  \n",
    "                str(random.choice(sessions_med))+\",\"+\n",
    "                random.choice(goal)+\",\"+ \n",
    "                random.choice(dimension)\n",
    "            )\n",
    "        for i in range(6):\n",
    "            print(  \n",
    "                str(random.choice(sessions_low))+\",\"+\n",
    "                random.choice(goal)+\",\"+ \n",
    "                random.choice(dimension)\n",
    "            )\n",
    "    return;\n",
    "\n",
    "make_opportunities()"
   ]
  },
  {
   "cell_type": "code",
   "execution_count": null,
   "metadata": {
    "collapsed": false
   },
   "outputs": [],
   "source": []
  },
  {
   "cell_type": "code",
   "execution_count": null,
   "metadata": {
    "collapsed": true
   },
   "outputs": [],
   "source": []
  }
 ],
 "metadata": {
  "anaconda-cloud": {},
  "kernelspec": {
   "display_name": "Python [conda env:pyjsviz]",
   "language": "python",
   "name": "conda-env-pyjsviz-py"
  },
  "language_info": {
   "codemirror_mode": {
    "name": "ipython",
    "version": 2
   },
   "file_extension": ".py",
   "mimetype": "text/x-python",
   "name": "python",
   "nbconvert_exporter": "python",
   "pygments_lexer": "ipython2",
   "version": "2.7.12"
  }
 },
 "nbformat": 4,
 "nbformat_minor": 0
}
